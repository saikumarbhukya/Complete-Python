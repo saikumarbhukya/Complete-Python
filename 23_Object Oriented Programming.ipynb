{
 "cells": [
  {
   "cell_type": "markdown",
   "metadata": {},
   "source": [
    "# Object-Oriented Programming\n",
    "Classes\n",
    "\n",
    "Objects\n",
    "\n",
    "Method Calls\n",
    "\n",
    "Inheritance and Its Types\n",
    "\n",
    "Overloading\n",
    "\n",
    "Overriding\n",
    "\n",
    "Data Hiding\n",
    "\n",
    "Operator Overloading"
   ]
  },
  {
   "cell_type": "markdown",
   "metadata": {},
   "source": [
    "# OOPs\n",
    "\n",
    "7 Properties of OOPs\n",
    "\n",
    "1. Class\n",
    "            \n",
    "            Updated version of structure (struct C programming).\n",
    "            Collection of variables and methods.\n",
    "            Class is a blueprint.\n",
    "2. Object\n",
    "            Run time or real time entity.\n",
    "            hash code - id()\n",
    "            \n",
    "3. Inheritance\n",
    "            "
   ]
  },
  {
   "cell_type": "code",
   "execution_count": null,
   "metadata": {},
   "outputs": [],
   "source": [
    "int a = 10;  # 2 bytes\n",
    "\n",
    "struct abc{\n",
    "    int a;\n",
    "    float b;\n",
    "    char c;\n",
    "}"
   ]
  },
  {
   "cell_type": "code",
   "execution_count": 1,
   "metadata": {},
   "outputs": [
    {
     "name": "stdout",
     "output_type": "stream",
     "text": [
      "10\n",
      "94405754090528\n"
     ]
    }
   ],
   "source": [
    "a = 10\n",
    "\n",
    "print(a)\n",
    "\n",
    "print(id(a))"
   ]
  },
  {
   "cell_type": "code",
   "execution_count": null,
   "metadata": {},
   "outputs": [],
   "source": []
  }
 ],
 "metadata": {
  "kernelspec": {
   "display_name": "Python 3",
   "language": "python",
   "name": "python3"
  },
  "language_info": {
   "codemirror_mode": {
    "name": "ipython",
    "version": 3
   },
   "file_extension": ".py",
   "mimetype": "text/x-python",
   "name": "python",
   "nbconvert_exporter": "python",
   "pygments_lexer": "ipython3",
   "version": "3.7.6"
  }
 },
 "nbformat": 4,
 "nbformat_minor": 4
}
