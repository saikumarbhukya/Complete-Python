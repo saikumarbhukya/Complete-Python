{
 "cells": [
  {
   "cell_type": "markdown",
   "metadata": {},
   "source": [
    "# Object-Oriented Programming\n",
    "Classes\n",
    "\n",
    "Objects\n",
    "\n",
    "Method Calls\n",
    "\n",
    "Inheritance and Its Types\n",
    "\n",
    "Overloading\n",
    "\n",
    "Overriding\n",
    "\n",
    "Data Hiding\n",
    "\n",
    "Operator Overloading"
   ]
  },
  {
   "cell_type": "markdown",
   "metadata": {},
   "source": [
    "# OOPs\n",
    "\n",
    "7 Properties of OOPs\n",
    "\n",
    "1. Class\n",
    "            \n",
    "            Updated version of structure (struct C programming).\n",
    "            Collection of variables and methods.\n",
    "            Class is a blueprint.\n",
    "2. Object\n",
    "            Run time or real time entity.\n",
    "            hash code - id()\n",
    "            \n",
    "3. Abstraction and Encapsulation\n",
    "            Abstraction - Showing only essential features without showing any backgroud details.\n",
    "            Encapsulation - Wrapping up of data in a single unit.\n",
    "           \n",
    "4. Inheritance\n",
    "            Acquiring properties of one class into another.\n",
    "            Code reuse\n",
    "            Types - \n",
    "            - single level\n",
    "            - multilevel \n",
    "            - hierarchical \n",
    "            - multiple\n",
    "            - hybrid\n",
    "5. Polymorphism\n",
    "            Same name multiple functionalities\n",
    "            - Method overloading\n",
    "            - method overriding\n",
    "            add()\n",
    "            add(x, y)\n",
    "            add(a,b,c)\n",
    "            add()\n",
    "6. Dynamic Memory Allocation\n",
    "            run time memory allocation / late binding / dynamic binding\n",
    "7. Message Passing\n",
    "            communication between objects."
   ]
  },
  {
   "cell_type": "code",
   "execution_count": null,
   "metadata": {},
   "outputs": [],
   "source": [
    "int a = 10;  # 2 bytes\n",
    "\n",
    "struct abc{\n",
    "    int a;\n",
    "    float b;\n",
    "    char c;\n",
    "}"
   ]
  },
  {
   "cell_type": "code",
   "execution_count": 1,
   "metadata": {},
   "outputs": [
    {
     "name": "stdout",
     "output_type": "stream",
     "text": [
      "10\n",
      "94405754090528\n"
     ]
    }
   ],
   "source": [
    "a = 10\n",
    "\n",
    "print(a)\n",
    "\n",
    "print(id(a))"
   ]
  },
  {
   "cell_type": "code",
   "execution_count": null,
   "metadata": {},
   "outputs": [],
   "source": [
    "windows xp\n",
    "\n",
    "windows 7\n",
    "^\n",
    "|\n",
    "windows 10"
   ]
  },
  {
   "cell_type": "code",
   "execution_count": 5,
   "metadata": {},
   "outputs": [],
   "source": [
    "class Cricket:\n",
    "    \n",
    "    def bat(self):\n",
    "        print(\"Batting\")\n"
   ]
  },
  {
   "cell_type": "code",
   "execution_count": 6,
   "metadata": {},
   "outputs": [
    {
     "name": "stdout",
     "output_type": "stream",
     "text": [
      "Batting\n"
     ]
    }
   ],
   "source": [
    "c = Cricket()\n",
    "\n",
    "c.bat()"
   ]
  },
  {
   "cell_type": "code",
   "execution_count": 7,
   "metadata": {},
   "outputs": [
    {
     "name": "stdout",
     "output_type": "stream",
     "text": [
      "<__main__.Cricket object at 0x7f64641321d0>\n"
     ]
    }
   ],
   "source": [
    "print(c)"
   ]
  },
  {
   "cell_type": "code",
   "execution_count": 8,
   "metadata": {},
   "outputs": [
    {
     "name": "stdout",
     "output_type": "stream",
     "text": [
      "140069152432592\n"
     ]
    }
   ],
   "source": [
    "print(id(c))"
   ]
  },
  {
   "cell_type": "code",
   "execution_count": 9,
   "metadata": {},
   "outputs": [
    {
     "name": "stdout",
     "output_type": "stream",
     "text": [
      "<__main__.Cricket object at 0x7f6464132f90>\n"
     ]
    }
   ],
   "source": [
    "print(Cricket())"
   ]
  },
  {
   "cell_type": "code",
   "execution_count": 10,
   "metadata": {},
   "outputs": [
    {
     "name": "stdout",
     "output_type": "stream",
     "text": [
      "Baller\n",
      "<__main__.Baller object at 0x7f646412d290>\n",
      "<__main__.Baller object at 0x7f646412d290>\n"
     ]
    }
   ],
   "source": [
    "class Baller:\n",
    "    \n",
    "    def bat(self):  # self = c\n",
    "        print(\"Baller\")\n",
    "        print(self)\n",
    "\n",
    "c = Baller()\n",
    "\n",
    "c.bat()\n",
    "print(c)"
   ]
  },
  {
   "cell_type": "code",
   "execution_count": null,
   "metadata": {},
   "outputs": [],
   "source": [
    "TV Blueprint  - class\n",
    "- smart tv\n",
    "- colors\n",
    "- usb\n",
    "- hdmi\n",
    "- wifi\n",
    "\n",
    "Actual TV - object\n",
    "\n",
    "remote - reference"
   ]
  },
  {
   "cell_type": "code",
   "execution_count": null,
   "metadata": {},
   "outputs": [],
   "source": []
  },
  {
   "cell_type": "code",
   "execution_count": null,
   "metadata": {},
   "outputs": [],
   "source": []
  },
  {
   "cell_type": "code",
   "execution_count": null,
   "metadata": {},
   "outputs": [],
   "source": []
  },
  {
   "cell_type": "code",
   "execution_count": null,
   "metadata": {},
   "outputs": [],
   "source": []
  }
 ],
 "metadata": {
  "kernelspec": {
   "display_name": "Python 3",
   "language": "python",
   "name": "python3"
  },
  "language_info": {
   "codemirror_mode": {
    "name": "ipython",
    "version": 3
   },
   "file_extension": ".py",
   "mimetype": "text/x-python",
   "name": "python",
   "nbconvert_exporter": "python",
   "pygments_lexer": "ipython3",
   "version": "3.7.6"
  }
 },
 "nbformat": 4,
 "nbformat_minor": 4
}
