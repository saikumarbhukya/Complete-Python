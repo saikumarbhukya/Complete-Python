{
 "cells": [
  {
   "cell_type": "markdown",
   "metadata": {},
   "source": [
    "# Object-Oriented Programming\n",
    "Classes\n",
    "\n",
    "Objects\n",
    "\n",
    "Method Calls\n",
    "\n",
    "Inheritance and Its Types\n",
    "\n",
    "Overloading\n",
    "\n",
    "Overriding\n",
    "\n",
    "Data Hiding\n",
    "\n",
    "Operator Overloading"
   ]
  },
  {
   "cell_type": "markdown",
   "metadata": {},
   "source": [
    "# OOPs\n",
    "\n",
    "7 Properties of OOPs\n",
    "\n",
    "1. Class\n",
    "            \n",
    "            Updated version of structure (struct C programming).\n",
    "            Collection of variables and methods.\n",
    "            Class is a blueprint.\n",
    "2. Object\n",
    "            Run time or real time entity.\n",
    "            hash code - id()\n",
    "            \n",
    "3. Abstraction and Encapsulation\n",
    "            Abstraction - Showing only essential features without showing any backgroud details.\n",
    "            Encapsulation - Wrapping up of data in a single unit.\n",
    "           \n",
    "4. Inheritance\n",
    "            Acquiring properties of one class into another.\n",
    "            Code reuse\n",
    "            Types - \n",
    "            - single level\n",
    "            - multilevel \n",
    "            - hierarchical \n",
    "            - multiple\n",
    "            - hybrid\n",
    "5. Polymorphism\n",
    "            Same name multiple functionalities\n",
    "            - Method overloading\n",
    "            - method overriding\n",
    "            add()\n",
    "            add(x, y)\n",
    "            add(a,b,c)\n",
    "            add()\n",
    "6. Dynamic Memory Allocation\n",
    "            run time memory allocation / late binding / dynamic binding\n",
    "7. Message Passing\n",
    "            communication between objects."
   ]
  },
  {
   "cell_type": "code",
   "execution_count": null,
   "metadata": {},
   "outputs": [],
   "source": [
    "int a = 10;  # 2 bytes\n",
    "\n",
    "struct abc{\n",
    "    int a;\n",
    "    float b;\n",
    "    char c;\n",
    "}"
   ]
  },
  {
   "cell_type": "code",
   "execution_count": 1,
   "metadata": {},
   "outputs": [
    {
     "name": "stdout",
     "output_type": "stream",
     "text": [
      "10\n",
      "94405754090528\n"
     ]
    }
   ],
   "source": [
    "a = 10\n",
    "\n",
    "print(a)\n",
    "\n",
    "print(id(a))"
   ]
  },
  {
   "cell_type": "code",
   "execution_count": null,
   "metadata": {},
   "outputs": [],
   "source": [
    "windows xp\n",
    "\n",
    "windows 7\n",
    "^\n",
    "|\n",
    "windows 10"
   ]
  },
  {
   "cell_type": "code",
   "execution_count": 5,
   "metadata": {},
   "outputs": [],
   "source": [
    "class Cricket:\n",
    "    \n",
    "    def bat(self):\n",
    "        print(\"Batting\")\n"
   ]
  },
  {
   "cell_type": "code",
   "execution_count": 6,
   "metadata": {},
   "outputs": [
    {
     "name": "stdout",
     "output_type": "stream",
     "text": [
      "Batting\n"
     ]
    }
   ],
   "source": [
    "c = Cricket()\n",
    "\n",
    "c.bat()"
   ]
  },
  {
   "cell_type": "code",
   "execution_count": 7,
   "metadata": {},
   "outputs": [
    {
     "name": "stdout",
     "output_type": "stream",
     "text": [
      "<__main__.Cricket object at 0x7f64641321d0>\n"
     ]
    }
   ],
   "source": [
    "print(c)"
   ]
  },
  {
   "cell_type": "code",
   "execution_count": 8,
   "metadata": {},
   "outputs": [
    {
     "name": "stdout",
     "output_type": "stream",
     "text": [
      "140069152432592\n"
     ]
    }
   ],
   "source": [
    "print(id(c))"
   ]
  },
  {
   "cell_type": "code",
   "execution_count": 9,
   "metadata": {},
   "outputs": [
    {
     "name": "stdout",
     "output_type": "stream",
     "text": [
      "<__main__.Cricket object at 0x7f6464132f90>\n"
     ]
    }
   ],
   "source": [
    "print(Cricket())"
   ]
  },
  {
   "cell_type": "code",
   "execution_count": 10,
   "metadata": {},
   "outputs": [
    {
     "name": "stdout",
     "output_type": "stream",
     "text": [
      "Baller\n",
      "<__main__.Baller object at 0x7f646412d290>\n",
      "<__main__.Baller object at 0x7f646412d290>\n"
     ]
    }
   ],
   "source": [
    "class Baller:\n",
    "    \n",
    "    def bat(self):  # self = c\n",
    "        print(\"Baller\")\n",
    "        print(self)\n",
    "\n",
    "c = Baller()\n",
    "\n",
    "c.bat()\n",
    "print(c)"
   ]
  },
  {
   "cell_type": "code",
   "execution_count": null,
   "metadata": {},
   "outputs": [],
   "source": [
    "TV Blueprint  - class\n",
    "- smart tv\n",
    "- colors\n",
    "- usb\n",
    "- hdmi\n",
    "- wifi\n",
    "\n",
    "Actual TV - object\n",
    "\n",
    "remote - reference"
   ]
  },
  {
   "cell_type": "code",
   "execution_count": 1,
   "metadata": {},
   "outputs": [],
   "source": [
    "class Football:\n",
    "    \n",
    "    def goal(self, x):  # self = f, x = 4\n",
    "        self.a = x      # class variable / class member / instance\n",
    "    \n",
    "    def display(self):\n",
    "        print(self.a)\n",
    "    \n",
    "f = Football()"
   ]
  },
  {
   "cell_type": "code",
   "execution_count": 2,
   "metadata": {},
   "outputs": [],
   "source": [
    "f.goal(4)"
   ]
  },
  {
   "cell_type": "code",
   "execution_count": 3,
   "metadata": {},
   "outputs": [
    {
     "name": "stdout",
     "output_type": "stream",
     "text": [
      "4\n"
     ]
    }
   ],
   "source": [
    "f.display()"
   ]
  },
  {
   "cell_type": "code",
   "execution_count": 4,
   "metadata": {},
   "outputs": [
    {
     "ename": "NameError",
     "evalue": "name 'a' is not defined",
     "output_type": "error",
     "traceback": [
      "\u001b[0;31m---------------------------------------------------------------------------\u001b[0m",
      "\u001b[0;31mNameError\u001b[0m                                 Traceback (most recent call last)",
      "\u001b[0;32m<ipython-input-4-bca0e2660b9f>\u001b[0m in \u001b[0;36m<module>\u001b[0;34m\u001b[0m\n\u001b[0;32m----> 1\u001b[0;31m \u001b[0mprint\u001b[0m\u001b[0;34m(\u001b[0m\u001b[0ma\u001b[0m\u001b[0;34m)\u001b[0m\u001b[0;34m\u001b[0m\u001b[0;34m\u001b[0m\u001b[0m\n\u001b[0m",
      "\u001b[0;31mNameError\u001b[0m: name 'a' is not defined"
     ]
    }
   ],
   "source": [
    "print(a)"
   ]
  },
  {
   "cell_type": "code",
   "execution_count": 5,
   "metadata": {},
   "outputs": [
    {
     "name": "stdout",
     "output_type": "stream",
     "text": [
      "4\n"
     ]
    }
   ],
   "source": [
    "print(f.a)"
   ]
  },
  {
   "cell_type": "code",
   "execution_count": 6,
   "metadata": {},
   "outputs": [
    {
     "name": "stdout",
     "output_type": "stream",
     "text": [
      "<__main__.Football object at 0x7f5b2c305110>\n"
     ]
    }
   ],
   "source": [
    "print(f)"
   ]
  },
  {
   "cell_type": "code",
   "execution_count": 7,
   "metadata": {},
   "outputs": [
    {
     "name": "stdout",
     "output_type": "stream",
     "text": [
      "<class 'int'>\n"
     ]
    }
   ],
   "source": [
    "b = 10\n",
    "print(type(b))"
   ]
  },
  {
   "cell_type": "code",
   "execution_count": 8,
   "metadata": {},
   "outputs": [
    {
     "name": "stdout",
     "output_type": "stream",
     "text": [
      "<class '__main__.Football'>\n"
     ]
    }
   ],
   "source": [
    "print(type(f))"
   ]
  },
  {
   "cell_type": "code",
   "execution_count": 9,
   "metadata": {},
   "outputs": [
    {
     "name": "stdout",
     "output_type": "stream",
     "text": [
      "94232054584352\n",
      "94232054584352\n"
     ]
    }
   ],
   "source": [
    "print(id(b))\n",
    "\n",
    "print(id(10))"
   ]
  },
  {
   "cell_type": "code",
   "execution_count": 10,
   "metadata": {},
   "outputs": [
    {
     "name": "stdout",
     "output_type": "stream",
     "text": [
      "<__main__.Test object at 0x7f5b2c284050>\n",
      "\n",
      "<__main__.Test object at 0x7f5b2c284050>\n",
      "Finish\n"
     ]
    }
   ],
   "source": [
    "class Test:\n",
    "    def add(self):\n",
    "        print(self)\n",
    "        print(\"Finish\")\n",
    "    \n",
    "t = Test()\n",
    "print(t)\n",
    "print()\n",
    "t.add()"
   ]
  },
  {
   "cell_type": "code",
   "execution_count": 11,
   "metadata": {},
   "outputs": [
    {
     "name": "stdout",
     "output_type": "stream",
     "text": [
      "<__main__.Test object at 0x7f5b2c305910>\n",
      "140029560117520\n",
      "\n",
      "<__main__.Test object at 0x7f5b2c305910>\n",
      "140029560117520\n",
      "Finish\n"
     ]
    }
   ],
   "source": [
    "class Test:\n",
    "    def add(self):\n",
    "        print(self)\n",
    "        print(id(self))\n",
    "        print(\"Finish\")\n",
    "    \n",
    "t = Test()\n",
    "print(t)\n",
    "print(id(t))\n",
    "print()\n",
    "t.add()"
   ]
  },
  {
   "cell_type": "code",
   "execution_count": 12,
   "metadata": {},
   "outputs": [
    {
     "name": "stdout",
     "output_type": "stream",
     "text": [
      "<__main__.Test object at 0x7f5b2c3052d0>\n",
      "140029560115920\n",
      "<__main__.Test object at 0x7f5b2c3052d0>\n",
      "140029560115920\n",
      "Finish\n"
     ]
    }
   ],
   "source": [
    "t2 = Test()\n",
    "print(t2)\n",
    "print(id(t2))\n",
    "t2.add()"
   ]
  },
  {
   "cell_type": "code",
   "execution_count": 13,
   "metadata": {},
   "outputs": [
    {
     "name": "stdout",
     "output_type": "stream",
     "text": [
      "This is add method\n",
      "This is add method\n"
     ]
    }
   ],
   "source": [
    "class Test:\n",
    "    def add(self):\n",
    "        print(\"This is add method\")\n",
    "        \n",
    "    def sub(self, a, b):\n",
    "        print(a)\n",
    "        print(b)\n",
    "    \n",
    "t1 = Test()\n",
    "t2 = Test()\n",
    "\n",
    "t1.add()\n",
    "t2.add()"
   ]
  },
  {
   "cell_type": "code",
   "execution_count": 14,
   "metadata": {},
   "outputs": [
    {
     "name": "stdout",
     "output_type": "stream",
     "text": [
      "10\n",
      "20\n",
      "------\n",
      "5\n",
      "9\n"
     ]
    }
   ],
   "source": [
    "t1.sub(10,20)\n",
    "print(\"------\")\n",
    "t2.sub(5,9)"
   ]
  },
  {
   "cell_type": "markdown",
   "metadata": {},
   "source": [
    "### local variables and class variables"
   ]
  },
  {
   "cell_type": "code",
   "execution_count": 15,
   "metadata": {},
   "outputs": [],
   "source": [
    "class Test:\n",
    "    def add(self):\n",
    "        print(\"This is add method\")\n",
    "        \n",
    "    def sub(self, a, b):  # a and b are local variables of sub method\n",
    "        self.x = a        # t1.x = 10, t2.x = 11  # x and y both are class variables\n",
    "        self.y = b        # t1.y = 20, t2.y = 22  # or instance variables\n",
    "    \n",
    "    def show(self):\n",
    "        print(self.x)\n",
    "        print(self.y)\n",
    "    \n"
   ]
  },
  {
   "cell_type": "code",
   "execution_count": 16,
   "metadata": {},
   "outputs": [],
   "source": [
    "t1 = Test()\n",
    "t2 = Test()"
   ]
  },
  {
   "cell_type": "code",
   "execution_count": 17,
   "metadata": {},
   "outputs": [
    {
     "name": "stdout",
     "output_type": "stream",
     "text": [
      "This is add method\n",
      "This is add method\n"
     ]
    }
   ],
   "source": [
    "t1.add()\n",
    "t2.add()"
   ]
  },
  {
   "cell_type": "code",
   "execution_count": 18,
   "metadata": {},
   "outputs": [],
   "source": [
    "t1.sub(10,20)\n",
    "t2.sub(11,22)"
   ]
  },
  {
   "cell_type": "code",
   "execution_count": 19,
   "metadata": {},
   "outputs": [
    {
     "name": "stdout",
     "output_type": "stream",
     "text": [
      "10\n",
      "20\n"
     ]
    }
   ],
   "source": [
    "t1.show()"
   ]
  },
  {
   "cell_type": "code",
   "execution_count": 20,
   "metadata": {},
   "outputs": [
    {
     "name": "stdout",
     "output_type": "stream",
     "text": [
      "11\n",
      "22\n"
     ]
    }
   ],
   "source": [
    "t2.show()"
   ]
  },
  {
   "cell_type": "code",
   "execution_count": 21,
   "metadata": {},
   "outputs": [
    {
     "name": "stdout",
     "output_type": "stream",
     "text": [
      "10\n"
     ]
    }
   ],
   "source": [
    "print(t1.x)"
   ]
  },
  {
   "cell_type": "code",
   "execution_count": 22,
   "metadata": {},
   "outputs": [
    {
     "name": "stdout",
     "output_type": "stream",
     "text": [
      "22\n"
     ]
    }
   ],
   "source": [
    "print(t2.y)"
   ]
  },
  {
   "cell_type": "code",
   "execution_count": 23,
   "metadata": {},
   "outputs": [
    {
     "ename": "AttributeError",
     "evalue": "'Test' object has no attribute 'a'",
     "output_type": "error",
     "traceback": [
      "\u001b[0;31m---------------------------------------------------------------------------\u001b[0m",
      "\u001b[0;31mAttributeError\u001b[0m                            Traceback (most recent call last)",
      "\u001b[0;32m<ipython-input-23-80e8f66c0508>\u001b[0m in \u001b[0;36m<module>\u001b[0;34m\u001b[0m\n\u001b[0;32m----> 1\u001b[0;31m \u001b[0mprint\u001b[0m\u001b[0;34m(\u001b[0m\u001b[0mt1\u001b[0m\u001b[0;34m.\u001b[0m\u001b[0ma\u001b[0m\u001b[0;34m)\u001b[0m\u001b[0;34m\u001b[0m\u001b[0;34m\u001b[0m\u001b[0m\n\u001b[0m",
      "\u001b[0;31mAttributeError\u001b[0m: 'Test' object has no attribute 'a'"
     ]
    }
   ],
   "source": [
    "print(t1.a)"
   ]
  },
  {
   "cell_type": "markdown",
   "metadata": {},
   "source": [
    "## constructor\n",
    "\n",
    "constructor are special member method of a class.\n",
    "\n",
    "__init__() - magic methods or dunders"
   ]
  },
  {
   "cell_type": "code",
   "execution_count": 24,
   "metadata": {},
   "outputs": [],
   "source": [
    "class Cat:\n",
    "    \n",
    "    def __init__(self):\n",
    "        print(\"Hello from Constructor\")\n",
    "    \n"
   ]
  },
  {
   "cell_type": "code",
   "execution_count": 25,
   "metadata": {},
   "outputs": [
    {
     "name": "stdout",
     "output_type": "stream",
     "text": [
      "Hello from Constructor\n"
     ]
    }
   ],
   "source": [
    "f = Cat()"
   ]
  },
  {
   "cell_type": "markdown",
   "metadata": {},
   "source": [
    "### paramatrized constructor"
   ]
  },
  {
   "cell_type": "code",
   "execution_count": 26,
   "metadata": {},
   "outputs": [],
   "source": [
    "class Cat:\n",
    "    \n",
    "    def __init__(self, x):\n",
    "        self.y = x\n",
    "    \n",
    "f = Cat(10)"
   ]
  },
  {
   "cell_type": "code",
   "execution_count": 27,
   "metadata": {},
   "outputs": [
    {
     "name": "stdout",
     "output_type": "stream",
     "text": [
      "10\n"
     ]
    }
   ],
   "source": [
    "print(f.y)"
   ]
  },
  {
   "cell_type": "code",
   "execution_count": 28,
   "metadata": {},
   "outputs": [],
   "source": [
    "class Rectangle:\n",
    "    def __init__(self, a, b):\n",
    "        self.a = a\n",
    "        self.b = b\n",
    "    \n",
    "r = Rectangle(8, 7)"
   ]
  },
  {
   "cell_type": "code",
   "execution_count": 29,
   "metadata": {},
   "outputs": [
    {
     "name": "stdout",
     "output_type": "stream",
     "text": [
      "8\n",
      "7\n"
     ]
    }
   ],
   "source": [
    "print(r.a)\n",
    "print(r.b)\n"
   ]
  },
  {
   "cell_type": "markdown",
   "metadata": {},
   "source": [
    "# Questions\n",
    "\n",
    "1. WAP to create a class to reverse a string word by word.\n",
    "2. WAP to create a class that can calculate are a of circle, rectangle, square and triangle."
   ]
  },
  {
   "cell_type": "markdown",
   "metadata": {},
   "source": [
    "# Inheritance\n",
    "\n",
    "Acquiring properties of one class into another.\n",
    "\n",
    "1. single level\n",
    "2. multilevel \n",
    "3. hierarchical \n",
    "4. multiple\n",
    "5. hybrid"
   ]
  },
  {
   "cell_type": "markdown",
   "metadata": {},
   "source": [
    "# Single Level"
   ]
  },
  {
   "cell_type": "code",
   "execution_count": 1,
   "metadata": {},
   "outputs": [
    {
     "name": "stdout",
     "output_type": "stream",
     "text": [
      "This is Add from class A\n",
      "This is Add from class A\n"
     ]
    }
   ],
   "source": [
    "class Windows7:            # parent class / super class / base class\n",
    "    def add(self):\n",
    "        print(\"This is Add from class A\")\n",
    "        \n",
    "class Windows10(Windows7): # child class / sub class / derived class\n",
    "    def sub(self):\n",
    "        print(\"This is sub from class B\")\n",
    "\n",
    "x = Windows7()\n",
    "y = Windows10()\n",
    "\n",
    "x.add()\n",
    "y.add()"
   ]
  },
  {
   "cell_type": "code",
   "execution_count": 2,
   "metadata": {},
   "outputs": [
    {
     "ename": "AttributeError",
     "evalue": "'Windows7' object has no attribute 'sub'",
     "output_type": "error",
     "traceback": [
      "\u001b[0;31m---------------------------------------------------------------------------\u001b[0m",
      "\u001b[0;31mAttributeError\u001b[0m                            Traceback (most recent call last)",
      "\u001b[0;32m<ipython-input-2-2b0748566ee1>\u001b[0m in \u001b[0;36m<module>\u001b[0;34m\u001b[0m\n\u001b[0;32m----> 1\u001b[0;31m \u001b[0mx\u001b[0m\u001b[0;34m.\u001b[0m\u001b[0msub\u001b[0m\u001b[0;34m(\u001b[0m\u001b[0;34m)\u001b[0m\u001b[0;34m\u001b[0m\u001b[0;34m\u001b[0m\u001b[0m\n\u001b[0m",
      "\u001b[0;31mAttributeError\u001b[0m: 'Windows7' object has no attribute 'sub'"
     ]
    }
   ],
   "source": [
    "x.sub()"
   ]
  },
  {
   "cell_type": "code",
   "execution_count": 3,
   "metadata": {},
   "outputs": [
    {
     "name": "stdout",
     "output_type": "stream",
     "text": [
      "This is sub from class B\n"
     ]
    }
   ],
   "source": [
    "y.sub()"
   ]
  },
  {
   "cell_type": "markdown",
   "metadata": {},
   "source": [
    "## inheritance with constructor init method"
   ]
  },
  {
   "cell_type": "code",
   "execution_count": 4,
   "metadata": {},
   "outputs": [
    {
     "name": "stdout",
     "output_type": "stream",
     "text": [
      "Init A\n",
      "Init B\n"
     ]
    }
   ],
   "source": [
    "class A:\n",
    "    def __init__(self):\n",
    "        print(\"Init A\")\n",
    "    \n",
    "    def add(self):\n",
    "        print(\"Add A\")\n",
    "    \n",
    "class B(A):\n",
    "    def __init__(self):\n",
    "        print(\"Init B\")\n",
    "    \n",
    "    def sub(self):\n",
    "        print(\"Sub B\")\n",
    "    \n",
    "x = A()\n",
    "y = B()"
   ]
  },
  {
   "cell_type": "code",
   "execution_count": 5,
   "metadata": {},
   "outputs": [
    {
     "name": "stdout",
     "output_type": "stream",
     "text": [
      "Init A\n",
      "Init A\n",
      "Init B\n"
     ]
    }
   ],
   "source": [
    "class A:\n",
    "    def __init__(self):\n",
    "        print(\"Init A\")\n",
    "    \n",
    "    def add(self):\n",
    "        print(\"Add A\")\n",
    "    \n",
    "class B(A):\n",
    "    def __init__(self):\n",
    "        A.__init__(self)\n",
    "        print(\"Init B\")\n",
    "    \n",
    "    def sub(self):\n",
    "        print(\"Sub B\")\n",
    "    \n",
    "x = A()\n",
    "y = B()"
   ]
  },
  {
   "cell_type": "markdown",
   "metadata": {},
   "source": [
    "## Multi Level"
   ]
  },
  {
   "cell_type": "code",
   "execution_count": 6,
   "metadata": {},
   "outputs": [
    {
     "name": "stdout",
     "output_type": "stream",
     "text": [
      "Show C\n",
      "Sub B\n",
      "Add A\n"
     ]
    }
   ],
   "source": [
    "class A:\n",
    "    def add(self):\n",
    "        print(\"Add A\")\n",
    "    \n",
    "class B(A):\n",
    "    def sub(self):\n",
    "        print(\"Sub B\")\n",
    "    \n",
    "class C(B):\n",
    "    def show(self):\n",
    "        print(\"Show C\")\n",
    "    \n",
    "z = C()\n",
    "z.show()\n",
    "z.sub()\n",
    "z.add()"
   ]
  },
  {
   "cell_type": "markdown",
   "metadata": {},
   "source": [
    "## Hierarchical Inheritance"
   ]
  },
  {
   "cell_type": "code",
   "execution_count": null,
   "metadata": {},
   "outputs": [],
   "source": [
    "    A\n",
    "B       C"
   ]
  },
  {
   "cell_type": "code",
   "execution_count": 7,
   "metadata": {},
   "outputs": [
    {
     "name": "stdout",
     "output_type": "stream",
     "text": [
      "Show C\n",
      "Add A\n"
     ]
    }
   ],
   "source": [
    "class A:\n",
    "    def add(self):\n",
    "        print(\"Add A\")\n",
    "    \n",
    "class B(A):\n",
    "    def sub(self):\n",
    "        print(\"Sub B\")\n",
    "    \n",
    "class C(A):\n",
    "    def show(self):\n",
    "        print(\"Show C\")\n",
    "    \n",
    "z = C()\n",
    "z.show()\n",
    "z.add()"
   ]
  },
  {
   "cell_type": "code",
   "execution_count": 8,
   "metadata": {},
   "outputs": [
    {
     "ename": "AttributeError",
     "evalue": "'C' object has no attribute 'sub'",
     "output_type": "error",
     "traceback": [
      "\u001b[0;31m---------------------------------------------------------------------------\u001b[0m",
      "\u001b[0;31mAttributeError\u001b[0m                            Traceback (most recent call last)",
      "\u001b[0;32m<ipython-input-8-b1c379b42a74>\u001b[0m in \u001b[0;36m<module>\u001b[0;34m\u001b[0m\n\u001b[0;32m----> 1\u001b[0;31m \u001b[0mz\u001b[0m\u001b[0;34m.\u001b[0m\u001b[0msub\u001b[0m\u001b[0;34m(\u001b[0m\u001b[0;34m)\u001b[0m\u001b[0;34m\u001b[0m\u001b[0;34m\u001b[0m\u001b[0m\n\u001b[0m",
      "\u001b[0;31mAttributeError\u001b[0m: 'C' object has no attribute 'sub'"
     ]
    }
   ],
   "source": [
    "z.sub()"
   ]
  },
  {
   "cell_type": "markdown",
   "metadata": {},
   "source": [
    "# Multiple Inheritance\n",
    "\n",
    "C3 algorithm to solve ambiguty error\n",
    "\n",
    "MRO - Method Resolution Order"
   ]
  },
  {
   "cell_type": "code",
   "execution_count": null,
   "metadata": {},
   "outputs": [],
   "source": [
    "A       B\n",
    "    C"
   ]
  },
  {
   "cell_type": "code",
   "execution_count": 9,
   "metadata": {},
   "outputs": [
    {
     "name": "stdout",
     "output_type": "stream",
     "text": [
      "Add A\n"
     ]
    }
   ],
   "source": [
    "class A:\n",
    "    def add(self):\n",
    "        print(\"Add A\")\n",
    "\n",
    "class B:\n",
    "    def add(self):\n",
    "        print(\"Add B\")\n",
    "\n",
    "class C(A,B):\n",
    "    def show(self):\n",
    "        print(\"Show C\")\n",
    "\n",
    "z = C()\n",
    "z.add()"
   ]
  },
  {
   "cell_type": "code",
   "execution_count": 12,
   "metadata": {},
   "outputs": [
    {
     "name": "stdout",
     "output_type": "stream",
     "text": [
      "(<class '__main__.C'>, <class '__main__.A'>, <class '__main__.B'>, <class 'object'>)\n"
     ]
    }
   ],
   "source": [
    "print(C.__mro__)"
   ]
  },
  {
   "cell_type": "code",
   "execution_count": 13,
   "metadata": {},
   "outputs": [
    {
     "name": "stdout",
     "output_type": "stream",
     "text": [
      "Add B\n",
      "(<class '__main__.C'>, <class '__main__.B'>, <class '__main__.A'>, <class 'object'>)\n"
     ]
    }
   ],
   "source": [
    "class A:\n",
    "    def add(self):\n",
    "        print(\"Add A\")\n",
    "\n",
    "class B:\n",
    "    def add(self):\n",
    "        print(\"Add B\")\n",
    "\n",
    "class C(B,A):\n",
    "    def show(self):\n",
    "        print(\"Show C\")\n",
    "\n",
    "z = C()\n",
    "z.add()\n",
    "print(C.__mro__)"
   ]
  },
  {
   "cell_type": "markdown",
   "metadata": {},
   "source": [
    "# Hybrid Inheritance"
   ]
  },
  {
   "cell_type": "code",
   "execution_count": null,
   "metadata": {},
   "outputs": [],
   "source": [
    "    A\n",
    "B       C\n",
    "    D"
   ]
  },
  {
   "cell_type": "code",
   "execution_count": 15,
   "metadata": {},
   "outputs": [
    {
     "name": "stdout",
     "output_type": "stream",
     "text": [
      "Add B\n",
      "(<class '__main__.D'>, <class '__main__.B'>, <class '__main__.C'>, <class '__main__.A'>, <class 'object'>)\n"
     ]
    }
   ],
   "source": [
    "class A:\n",
    "    def add(self):\n",
    "        print(\"Add A\")\n",
    "\n",
    "class B(A):\n",
    "    def add(self):\n",
    "        print(\"Add B\")\n",
    "\n",
    "class C(A):\n",
    "    def show(self):\n",
    "        print(\"Show C\")\n",
    "    \n",
    "class D(B,C):\n",
    "    def play(self):\n",
    "        print(\"Play D\")\n",
    "\n",
    "z = D()\n",
    "z.add()\n",
    "print(D.__mro__)"
   ]
  },
  {
   "cell_type": "markdown",
   "metadata": {},
   "source": [
    "# Method overloading and Overriding\n",
    "\n",
    "### Method Overloading"
   ]
  },
  {
   "cell_type": "code",
   "execution_count": 1,
   "metadata": {},
   "outputs": [
    {
     "name": "stdout",
     "output_type": "stream",
     "text": [
      "20\n"
     ]
    }
   ],
   "source": [
    "a = 10\n",
    "a = 20\n",
    "\n",
    "print(a)"
   ]
  },
  {
   "cell_type": "code",
   "execution_count": null,
   "metadata": {},
   "outputs": [],
   "source": [
    "play --> object(function)"
   ]
  },
  {
   "cell_type": "code",
   "execution_count": 2,
   "metadata": {},
   "outputs": [],
   "source": [
    "def play(a,b):\n",
    "    print(a)\n",
    "    print(b)\n",
    "    \n",
    "def play(x,y,z):\n",
    "    print(x + y + z)"
   ]
  },
  {
   "cell_type": "code",
   "execution_count": 3,
   "metadata": {},
   "outputs": [
    {
     "ename": "TypeError",
     "evalue": "play() missing 1 required positional argument: 'z'",
     "output_type": "error",
     "traceback": [
      "\u001b[0;31m---------------------------------------------------------------------------\u001b[0m",
      "\u001b[0;31mTypeError\u001b[0m                                 Traceback (most recent call last)",
      "\u001b[0;32m<ipython-input-3-cbafc930bccb>\u001b[0m in \u001b[0;36m<module>\u001b[0;34m\u001b[0m\n\u001b[0;32m----> 1\u001b[0;31m \u001b[0mplay\u001b[0m\u001b[0;34m(\u001b[0m\u001b[0;36m10\u001b[0m\u001b[0;34m,\u001b[0m\u001b[0;36m20\u001b[0m\u001b[0;34m)\u001b[0m\u001b[0;34m\u001b[0m\u001b[0;34m\u001b[0m\u001b[0m\n\u001b[0m",
      "\u001b[0;31mTypeError\u001b[0m: play() missing 1 required positional argument: 'z'"
     ]
    }
   ],
   "source": [
    "play(10,20)"
   ]
  },
  {
   "cell_type": "code",
   "execution_count": 4,
   "metadata": {},
   "outputs": [
    {
     "name": "stdout",
     "output_type": "stream",
     "text": [
      "<class 'function'>\n"
     ]
    }
   ],
   "source": [
    "print(type(play))"
   ]
  },
  {
   "cell_type": "code",
   "execution_count": 5,
   "metadata": {},
   "outputs": [
    {
     "name": "stdout",
     "output_type": "stream",
     "text": [
      "6\n"
     ]
    }
   ],
   "source": [
    "play(1,2,3)"
   ]
  },
  {
   "cell_type": "markdown",
   "metadata": {},
   "source": [
    "### method overrriding"
   ]
  },
  {
   "cell_type": "code",
   "execution_count": 6,
   "metadata": {},
   "outputs": [
    {
     "name": "stdout",
     "output_type": "stream",
     "text": [
      "Constructor A\n",
      "Constructor B\n"
     ]
    }
   ],
   "source": [
    "class A:\n",
    "    def __init__(self):\n",
    "        self.x = \"Constructor A\"\n",
    "    \n",
    "    def show(self):\n",
    "        print(self.x)\n",
    "    \n",
    "class B(A):\n",
    "    def __init__(self):\n",
    "        self.x = \"Constructor B\"\n",
    "    \n",
    "    def show(self):\n",
    "        print(self.x)\n",
    "    \n",
    "z1 = A()\n",
    "z2 = B()\n",
    "\n",
    "z1.show()\n",
    "z2.show()"
   ]
  },
  {
   "cell_type": "code",
   "execution_count": 7,
   "metadata": {},
   "outputs": [
    {
     "name": "stdout",
     "output_type": "stream",
     "text": [
      "Show C\n"
     ]
    }
   ],
   "source": [
    "class A:\n",
    "    \n",
    "    def show(self):\n",
    "        print(\"show A\")\n",
    "    \n",
    "class B:\n",
    "    def show(self):\n",
    "        print(\"Show B\")\n",
    "    \n",
    "class C(A,B):\n",
    "    def show(self):\n",
    "        print(\"Show C\")\n",
    "\n",
    "z = C()\n",
    "z.show()"
   ]
  },
  {
   "cell_type": "code",
   "execution_count": 8,
   "metadata": {},
   "outputs": [
    {
     "name": "stdout",
     "output_type": "stream",
     "text": [
      "show A\n"
     ]
    }
   ],
   "source": [
    "class A:\n",
    "    \n",
    "    def show(self):\n",
    "        print(\"show A\")\n",
    "    \n",
    "class B:\n",
    "    def show(self):\n",
    "        print(\"Show B\")\n",
    "    \n",
    "class C(A,B):\n",
    "    def show1(self):\n",
    "        print(\"Show C\")\n",
    "\n",
    "z = C()\n",
    "z.show()"
   ]
  },
  {
   "cell_type": "markdown",
   "metadata": {},
   "source": [
    "# Operator Overloading"
   ]
  },
  {
   "cell_type": "code",
   "execution_count": 9,
   "metadata": {},
   "outputs": [
    {
     "name": "stdout",
     "output_type": "stream",
     "text": [
      "16\n"
     ]
    }
   ],
   "source": [
    "print(1 + 15)\n",
    "\n"
   ]
  },
  {
   "cell_type": "code",
   "execution_count": 10,
   "metadata": {},
   "outputs": [
    {
     "ename": "TypeError",
     "evalue": "unsupported operand type(s) for +: 'int' and 'str'",
     "output_type": "error",
     "traceback": [
      "\u001b[0;31m---------------------------------------------------------------------------\u001b[0m",
      "\u001b[0;31mTypeError\u001b[0m                                 Traceback (most recent call last)",
      "\u001b[0;32m<ipython-input-10-06f68151eec1>\u001b[0m in \u001b[0;36m<module>\u001b[0;34m\u001b[0m\n\u001b[0;32m----> 1\u001b[0;31m \u001b[0mprint\u001b[0m\u001b[0;34m(\u001b[0m\u001b[0;36m1\u001b[0m \u001b[0;34m+\u001b[0m \u001b[0;34m\"A\"\u001b[0m\u001b[0;34m)\u001b[0m\u001b[0;34m\u001b[0m\u001b[0;34m\u001b[0m\u001b[0m\n\u001b[0m",
      "\u001b[0;31mTypeError\u001b[0m: unsupported operand type(s) for +: 'int' and 'str'"
     ]
    }
   ],
   "source": [
    "print(1 + \"A\")"
   ]
  },
  {
   "cell_type": "code",
   "execution_count": null,
   "metadata": {},
   "outputs": [],
   "source": [
    "__add__ - magic methods / dunders"
   ]
  },
  {
   "cell_type": "code",
   "execution_count": 11,
   "metadata": {},
   "outputs": [
    {
     "name": "stdout",
     "output_type": "stream",
     "text": [
      "8\n",
      "16\n"
     ]
    }
   ],
   "source": [
    "class A:\n",
    "    \n",
    "    def __init__(self, x, y):\n",
    "        self.x = x\n",
    "        self.y = y\n",
    "    #             f     s\n",
    "    def __add__(self, other):\n",
    "        return A(self.x + other.x, self.y + other.y)\n",
    "    #              5         3   ,    7        9\n",
    "    #                   8        ,         16\n",
    "    #         A(8, 16)\n",
    "    \n",
    "f = A(5,7)\n",
    "s = A(3,9)\n",
    "\n",
    "r = f + s  # f.__add__(s)\n",
    "#r= A(8,16)\n",
    "print(r.x)\n",
    "print(r.y)"
   ]
  },
  {
   "cell_type": "code",
   "execution_count": null,
   "metadata": {},
   "outputs": [],
   "source": [
    "object.__add__(self,other)\n",
    "object.__sub__(self,other)\n",
    "object.__mul__(self,other)\n",
    "object.__floordiv__(self,other)\n",
    "object.__truediv__(self,other)\n",
    "object.__mod__(self,other)\n",
    "object.__pow__(self,other)\n",
    "object.__lshift__(self,other)\n",
    "object.__rshift__(self,other)\n",
    "object.__and__(self,other)\n",
    "object.__or__(self,other)\n",
    "object.__xor__(self,other)\n",
    "\n",
    "\n",
    "object.__lt__(self,other)\n",
    "object.__le__(self,other)\n",
    "object.__eq__(self,other)\n",
    "object.__ne__(self,other)\n",
    "object.__gt__(self,other)\n",
    "object.__ge__(self,other)"
   ]
  },
  {
   "cell_type": "markdown",
   "metadata": {},
   "source": [
    "# Object Life Cycle"
   ]
  },
  {
   "cell_type": "code",
   "execution_count": null,
   "metadata": {},
   "outputs": [],
   "source": [
    "definition --> instantiation --> destroyed\n",
    "#   new              init           del"
   ]
  },
  {
   "cell_type": "code",
   "execution_count": null,
   "metadata": {},
   "outputs": [],
   "source": [
    "# automatic garbage collection"
   ]
  },
  {
   "cell_type": "code",
   "execution_count": null,
   "metadata": {},
   "outputs": [],
   "source": [
    "a = 10\n",
    "b = a"
   ]
  },
  {
   "cell_type": "markdown",
   "metadata": {},
   "source": [
    "### reference count\n",
    "\n",
    "number of variables that refers to an object"
   ]
  },
  {
   "cell_type": "code",
   "execution_count": 12,
   "metadata": {},
   "outputs": [
    {
     "ename": "NameError",
     "evalue": "name 'a' is not defined",
     "output_type": "error",
     "traceback": [
      "\u001b[0;31m---------------------------------------------------------------------------\u001b[0m",
      "\u001b[0;31mNameError\u001b[0m                                 Traceback (most recent call last)",
      "\u001b[0;32m<ipython-input-12-72f37725998a>\u001b[0m in \u001b[0;36m<module>\u001b[0;34m\u001b[0m\n\u001b[1;32m      5\u001b[0m \u001b[0;32mdel\u001b[0m \u001b[0mb\u001b[0m\u001b[0;34m\u001b[0m\u001b[0;34m\u001b[0m\u001b[0m\n\u001b[1;32m      6\u001b[0m \u001b[0;34m\u001b[0m\u001b[0m\n\u001b[0;32m----> 7\u001b[0;31m \u001b[0mprint\u001b[0m\u001b[0;34m(\u001b[0m\u001b[0ma\u001b[0m\u001b[0;34m)\u001b[0m\u001b[0;34m\u001b[0m\u001b[0;34m\u001b[0m\u001b[0m\n\u001b[0m",
      "\u001b[0;31mNameError\u001b[0m: name 'a' is not defined"
     ]
    }
   ],
   "source": [
    "a = 10\n",
    "b = a\n",
    "\n",
    "del a\n",
    "del b\n",
    "\n",
    "print(a)"
   ]
  },
  {
   "cell_type": "code",
   "execution_count": 13,
   "metadata": {},
   "outputs": [],
   "source": [
    "import sys"
   ]
  },
  {
   "cell_type": "code",
   "execution_count": 15,
   "metadata": {},
   "outputs": [
    {
     "name": "stdout",
     "output_type": "stream",
     "text": [
      "4\n",
      "3\n"
     ]
    }
   ],
   "source": [
    "a = 987654\n",
    "b = a\n",
    "\n",
    "print(sys.getrefcount(a))\n",
    "\n",
    "del b\n",
    "\n",
    "print(sys.getrefcount(a))"
   ]
  },
  {
   "cell_type": "code",
   "execution_count": 16,
   "metadata": {},
   "outputs": [
    {
     "name": "stdout",
     "output_type": "stream",
     "text": [
      "308\n"
     ]
    }
   ],
   "source": [
    "a = 10\n",
    "\n",
    "print(sys.getrefcount(a))"
   ]
  },
  {
   "cell_type": "code",
   "execution_count": null,
   "metadata": {},
   "outputs": [],
   "source": []
  }
 ],
 "metadata": {
  "kernelspec": {
   "display_name": "Python 3",
   "language": "python",
   "name": "python3"
  },
  "language_info": {
   "codemirror_mode": {
    "name": "ipython",
    "version": 3
   },
   "file_extension": ".py",
   "mimetype": "text/x-python",
   "name": "python",
   "nbconvert_exporter": "python",
   "pygments_lexer": "ipython3",
   "version": "3.7.6"
  }
 },
 "nbformat": 4,
 "nbformat_minor": 4
}
